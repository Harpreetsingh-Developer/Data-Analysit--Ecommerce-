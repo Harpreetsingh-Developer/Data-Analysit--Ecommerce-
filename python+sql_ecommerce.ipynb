{
 "cells": [
  {
   "cell_type": "code",
   "execution_count": 3,
   "metadata": {},
   "outputs": [],
   "source": [
    "import pandas as pd\n",
    "import matplotlib.pyplot as plt\n",
    "import seaborn as sns\n",
    "import mysql.connector\n",
    "\n",
    "db = mysql.connector.connect(\n",
    "    host = 'localhost',\n",
    "    user ='root',\n",
    "    password = 'anmol2004',\n",
    "    database = 'ecommerce'\n",
    ")\n",
    "cursor = db.cursor(buffered=True)"
   ]
  },
  {
   "cell_type": "code",
   "execution_count": 4,
   "metadata": {},
   "outputs": [
    {
     "name": "stdout",
     "output_type": "stream",
     "text": [
      "              Customer City\n",
      "0                    franca\n",
      "1     sao bernardo do campo\n",
      "2                 sao paulo\n",
      "3           mogi das cruzes\n",
      "4                  campinas\n",
      "...                     ...\n",
      "4114                 siriji\n",
      "4115    natividade da serra\n",
      "4116           monte bonito\n",
      "4117             sao rafael\n",
      "4118      eugenio de castro\n",
      "\n",
      "[4119 rows x 1 columns]\n"
     ]
    }
   ],
   "source": [
    "# List all unique cities where customers are located.\n",
    "\n",
    "# Execute query\n",
    "query = \"\"\"SELECT DISTINCT customer_city FROM customers\"\"\"\n",
    "cursor.execute(query)\n",
    "\n",
    "# Fetch all results\n",
    "data = cursor.fetchall()\n",
    "\n",
    "# Convert to DataFrame\n",
    "df = pd.DataFrame(data, columns=[\"Customer City\"])\n",
    "\n",
    "# Print as a table\n",
    "print(df)\n",
    "\n",
    "\n",
    "\n"
   ]
  },
  {
   "cell_type": "code",
   "execution_count": 5,
   "metadata": {},
   "outputs": [
    {
     "name": "stdout",
     "output_type": "stream",
     "text": [
      "Total Orders in 2017: 45101\n"
     ]
    }
   ],
   "source": [
    "# Count the number of orders placed in 2017.\n",
    "\n",
    "query = \"\"\"SELECT COUNT(order_id) FROM orders WHERE YEAR(order_purchase_timestamp) = 2017\"\"\"\n",
    "cursor.execute(query)\n",
    "\n",
    "# Fetch the result\n",
    "data = cursor.fetchone()  # COUNT returns a single value\n",
    "\n",
    "# Print the count\n",
    "print(\"Total Orders in 2017:\", data[0])\n"
   ]
  },
  {
   "cell_type": "code",
   "execution_count": 6,
   "metadata": {},
   "outputs": [
    {
     "name": "stdout",
     "output_type": "stream",
     "text": [
      "                       Category   Total Sales\n",
      "0                     perfumery  5.067387e+05\n",
      "1          Furniture Decoration  1.430176e+06\n",
      "2                     telephony  4.868821e+05\n",
      "3                bed table bath  1.712554e+06\n",
      "4                    automotive  8.522943e+05\n",
      "..                          ...           ...\n",
      "69               cds music dvds  1.199430e+03\n",
      "70                   La Cuisine  2.913530e+03\n",
      "71  Fashion Children's Clothing  7.856700e+02\n",
      "72                     PC Gamer  2.174430e+03\n",
      "73       insurance and services  3.245100e+02\n",
      "\n",
      "[74 rows x 2 columns]\n"
     ]
    }
   ],
   "source": [
    "# Find the total sales per category.\n",
    "\n",
    "query = \"\"\"\n",
    "    SELECT \n",
    "        products.product_category AS category, \n",
    "        SUM(payments.payment_value) AS sales\n",
    "    FROM products \n",
    "    JOIN order_items ON products.product_id = order_items.product_id\n",
    "    JOIN payments ON order_items.order_id = payments.order_id  -- Fix table name\n",
    "    GROUP BY category\n",
    "\"\"\"\n",
    "cursor.execute(query)\n",
    "data = cursor.fetchall()\n",
    "\n",
    "# Print results in a readable format\n",
    "df = pd.DataFrame(data, columns=[\"Category\", \"Total Sales\"])\n",
    "print(df)\n"
   ]
  },
  {
   "cell_type": "code",
   "execution_count": 7,
   "metadata": {},
   "outputs": [
    {
     "name": "stdout",
     "output_type": "stream",
     "text": [
      "Percentage of Orders Paid in Installments: 49.4176 %\n"
     ]
    }
   ],
   "source": [
    "# Calculate the percentage of orders that were paid in installments.\n",
    "\n",
    "query = \"\"\"\n",
    "    SELECT \n",
    "        (SUM(CASE WHEN payment_installments > 1 THEN 1 ELSE 0 END) / COUNT(*)) * 100 \n",
    "        AS installment_percentage\n",
    "    FROM payments;\n",
    "\"\"\"\n",
    "cursor.execute(query)\n",
    "data = cursor.fetchone()\n",
    "\n",
    "# Print the percentage\n",
    "print(\"Percentage of Orders Paid in Installments:\", data[0], \"%\")\n",
    "\n"
   ]
  },
  {
   "cell_type": "code",
   "execution_count": 8,
   "metadata": {},
   "outputs": [
    {
     "name": "stdout",
     "output_type": "stream",
     "text": [
      "   State  Customer Count\n",
      "0     SP           41746\n",
      "1     RJ           12852\n",
      "2     MG           11635\n",
      "3     RS            5466\n",
      "4     PR            5045\n",
      "5     SC            3637\n",
      "6     BA            3380\n",
      "7     DF            2140\n",
      "8     ES            2033\n",
      "9     GO            2020\n",
      "10    PE            1652\n",
      "11    CE            1336\n",
      "12    PA             975\n",
      "13    MT             907\n",
      "14    MA             747\n",
      "15    MS             715\n",
      "16    PB             536\n",
      "17    PI             495\n",
      "18    RN             485\n",
      "19    AL             413\n",
      "20    SE             350\n",
      "21    TO             280\n",
      "22    RO             253\n",
      "23    AM             148\n",
      "24    AC              81\n",
      "25    AP              68\n",
      "26    RR              46\n"
     ]
    },
    {
     "data": {
      "text/plain": [
       "<function matplotlib.pyplot.show(close=None, block=None)>"
      ]
     },
     "execution_count": 8,
     "metadata": {},
     "output_type": "execute_result"
    },
    {
     "data": {
      "image/png": "[encoded data removed]",
      "text/plain": [
       "<Figure size 900x400 with 1 Axes>"
      ]
     },
     "metadata": {},
     "output_type": "display_data"
    }
   ],
   "source": [
    "# Count the number of customers from each state. \n",
    "\n",
    "query = \"\"\"\n",
    "    SELECT customer_state, COUNT(customer_id) AS customer_count\n",
    "    FROM customers\n",
    "    GROUP BY customer_state\n",
    "    ORDER BY customer_count DESC;\n",
    "\"\"\"\n",
    "cursor.execute(query)\n",
    "data = cursor.fetchall()\n",
    "\n",
    "# Display results in a readable format using Pandas\n",
    "df = pd.DataFrame(data, columns=[\"State\", \"Customer Count\"])\n",
    "print(df)\n",
    "df = df.sort_values(by= \"Customer Count\", ascending = False)\n",
    "\n",
    "plt.figure(figsize=(9,4))\n",
    "plt.bar(df[\"State\"] ,df [\"Customer Count\"])\n",
    "plt.xticks(rotation = 90)\n",
    "plt.show\n"
   ]
  },
  {
   "cell_type": "code",
   "execution_count": null,
   "metadata": {},
   "outputs": [
    {
     "name": "stdout",
     "output_type": "stream",
     "text": [
      "       Month  Order Count\n",
      "0       July         6292\n",
      "1     August         6512\n",
      "2   February         6728\n",
      "3       June         6167\n",
      "4      March         7211\n",
      "5    January         7269\n",
      "6        May         6873\n",
      "7      April         6939\n",
      "8  September           16\n",
      "9    October            4\n"
     ]
    },
    {
     "ename": "AttributeError",
     "evalue": "'Axes' object has no attribute 'container'",
     "output_type": "error",
     "traceback": [
      "\u001b[1;31m---------------------------------------------------------------------------\u001b[0m",
      "\u001b[1;31mAttributeError\u001b[0m                            Traceback (most recent call last)",
      "Cell \u001b[1;32mIn[21], line 16\u001b[0m\n\u001b[0;32m     14\u001b[0m ax \u001b[38;5;241m=\u001b[39m sns\u001b[38;5;241m.\u001b[39mbarplot(x\u001b[38;5;241m=\u001b[39mdf[\u001b[38;5;124m\"\u001b[39m\u001b[38;5;124mMonth\u001b[39m\u001b[38;5;124m\"\u001b[39m], y\u001b[38;5;241m=\u001b[39mdf[\u001b[38;5;124m\"\u001b[39m\u001b[38;5;124mOrder Count\u001b[39m\u001b[38;5;124m\"\u001b[39m], data\u001b[38;5;241m=\u001b[39mdf, order\u001b[38;5;241m=\u001b[39mo)\n\u001b[0;32m     15\u001b[0m plt\u001b[38;5;241m.\u001b[39mxticks(rotation \u001b[38;5;241m=\u001b[39m \u001b[38;5;241m45\u001b[39m)\n\u001b[1;32m---> 16\u001b[0m ax\u001b[38;5;241m.\u001b[39mbar_label(\u001b[43max\u001b[49m\u001b[38;5;241;43m.\u001b[39;49m\u001b[43mcontainer\u001b[49m[\u001b[38;5;241m0\u001b[39m])\n\u001b[0;32m     18\u001b[0m plt\u001b[38;5;241m.\u001b[39mshow()\n",
      "\u001b[1;31mAttributeError\u001b[0m: 'Axes' object has no attribute 'container'"
     ]
    },
    {
     "data": {
      "image/png": "[encoded data removed]",
      "text/plain": [
       "<Figure size 640x480 with 1 Axes>"
      ]
     },
     "metadata": {},
     "output_type": "display_data"
    }
   ],
   "source": [
    "# Calculate the number of orders per month in 2018.\n",
    "query = \"\"\"\n",
    "    select monthname(order_purchase_timestamp) months, count(order_id) order_count\n",
    "    from orders where year(order_purchase_timestamp) = 2018\n",
    "    group by months\n",
    "\"\"\"\n",
    "cursor.execute(query)\n",
    "data = cursor.fetchall()\n",
    "\n",
    "# Display results in a readable format using Pandas\n",
    "df = pd.DataFrame(data, columns=[\"Month\", \"Order Count\"])\n",
    "print(df)\n",
    "# Assuming df has columns 'Month' and 'Order Count'\n",
    "ax = sns.barplot(x=df[\"Month\"], y=df[\"Order Count\"], data=df, order=o)\n",
    "plt.xticks(rotation = 45)\n",
    "ax.bar_label(ax.containers[0])\n",
    "\n",
    "plt.show()\n",
    "\n",
    "\n"
   ]
  },
  {
   "cell_type": "code",
   "execution_count": 10,
   "metadata": {},
   "outputs": [
    {
     "name": "stdout",
     "output_type": "stream",
     "text": [
      "             Customer City Avg Products per Order\n",
      "0           padre carvalho                 7.0000\n",
      "1              celso ramos                 6.5000\n",
      "2            candido godoi                 6.0000\n",
      "3                    datas                 6.0000\n",
      "4           matias olimpio                 5.0000\n",
      "...                    ...                    ...\n",
      "4105        sebastiao leal                 1.0000\n",
      "4106  morro agudo de goias                 1.0000\n",
      "4107        santa filomena                 1.0000\n",
      "4108            guamiranga                 1.0000\n",
      "4109         padre paraiso                 1.0000\n",
      "\n",
      "[4110 rows x 2 columns]\n"
     ]
    }
   ],
   "source": [
    "# Find the average number of products per order, grouped by customer city.\n",
    "query = \"\"\"\n",
    "    SELECT \n",
    "        c.customer_city, \n",
    "        AVG(order_product_counts.product_count) AS avg_products_per_order\n",
    "    FROM (\n",
    "        SELECT \n",
    "            o.customer_id, \n",
    "            o.order_id, \n",
    "            COUNT(oi.product_id) AS product_count\n",
    "        FROM orders o\n",
    "        JOIN order_items oi ON o.order_id = oi.order_id\n",
    "        GROUP BY o.order_id, o.customer_id\n",
    "    ) AS order_product_counts\n",
    "    JOIN customers c ON order_product_counts.customer_id = c.customer_id\n",
    "    GROUP BY c.customer_city\n",
    "    ORDER BY avg_products_per_order DESC;\n",
    "\"\"\"\n",
    "cursor.execute(query)\n",
    "data = cursor.fetchall()\n",
    "\n",
    "# Display results in a readable format using Pandas\n",
    "\n",
    "df = pd.DataFrame(data, columns=[\"Customer City\", \"Avg Products per Order\"])\n",
    "print(df)\n",
    "\n"
   ]
  },
  {
   "cell_type": "code",
   "execution_count": 11,
   "metadata": {},
   "outputs": [
    {
     "ename": "ProgrammingError",
     "evalue": "1054 (42S22): Unknown column 'product_category_name' in 'field list'",
     "output_type": "error",
     "traceback": [
      "\u001b[1;31m---------------------------------------------------------------------------\u001b[0m",
      "\u001b[1;31mMySQLInterfaceError\u001b[0m                       Traceback (most recent call last)",
      "File \u001b[1;32md:\\Data Analyst\\Projects\\Ecommerce\\.venv\\lib\\site-packages\\mysql\\connector\\connection_cext.py:755\u001b[0m, in \u001b[0;36mCMySQLConnection.cmd_query\u001b[1;34m(self, query, raw, buffered, raw_as_string, **kwargs)\u001b[0m\n\u001b[0;32m    754\u001b[0m         query \u001b[38;5;241m=\u001b[39m query\u001b[38;5;241m.\u001b[39mencode(\u001b[38;5;124m\"\u001b[39m\u001b[38;5;124mutf-8\u001b[39m\u001b[38;5;124m\"\u001b[39m)\n\u001b[1;32m--> 755\u001b[0m     \u001b[38;5;28;43mself\u001b[39;49m\u001b[38;5;241;43m.\u001b[39;49m\u001b[43m_cmysql\u001b[49m\u001b[38;5;241;43m.\u001b[39;49m\u001b[43mquery\u001b[49m\u001b[43m(\u001b[49m\n\u001b[0;32m    756\u001b[0m \u001b[43m        \u001b[49m\u001b[43mquery\u001b[49m\u001b[43m,\u001b[49m\n\u001b[0;32m    757\u001b[0m \u001b[43m        \u001b[49m\u001b[43mraw\u001b[49m\u001b[38;5;241;43m=\u001b[39;49m\u001b[43mraw\u001b[49m\u001b[43m,\u001b[49m\n\u001b[0;32m    758\u001b[0m \u001b[43m        \u001b[49m\u001b[43mbuffered\u001b[49m\u001b[38;5;241;43m=\u001b[39;49m\u001b[43mbuffered\u001b[49m\u001b[43m,\u001b[49m\n\u001b[0;32m    759\u001b[0m \u001b[43m        \u001b[49m\u001b[43mraw_as_string\u001b[49m\u001b[38;5;241;43m=\u001b[39;49m\u001b[43mraw_as_string\u001b[49m\u001b[43m,\u001b[49m\n\u001b[0;32m    760\u001b[0m \u001b[43m        \u001b[49m\u001b[43mquery_attrs\u001b[49m\u001b[38;5;241;43m=\u001b[39;49m\u001b[38;5;28;43mself\u001b[39;49m\u001b[38;5;241;43m.\u001b[39;49m\u001b[43mquery_attrs\u001b[49m\u001b[43m,\u001b[49m\n\u001b[0;32m    761\u001b[0m \u001b[43m    \u001b[49m\u001b[43m)\u001b[49m\n\u001b[0;32m    762\u001b[0m \u001b[38;5;28;01mexcept\u001b[39;00m MySQLInterfaceError \u001b[38;5;28;01mas\u001b[39;00m err:\n",
      "\u001b[1;31mMySQLInterfaceError\u001b[0m: Unknown column 'product_category_name' in 'field list'",
      "\nThe above exception was the direct cause of the following exception:\n",
      "\u001b[1;31mProgrammingError\u001b[0m                          Traceback (most recent call last)",
      "Cell \u001b[1;32mIn[11], line 14\u001b[0m\n\u001b[0;32m      1\u001b[0m \u001b[38;5;66;03m# Calculate the percentage of total revenue contributed by each product category.\u001b[39;00m\n\u001b[0;32m      2\u001b[0m \u001b[38;5;66;03m# SQL query to get revenue percentage per product category\u001b[39;00m\n\u001b[0;32m      3\u001b[0m query \u001b[38;5;241m=\u001b[39m \u001b[38;5;124m\"\"\"\u001b[39m\n\u001b[0;32m      4\u001b[0m \u001b[38;5;124m    SELECT \u001b[39m\n\u001b[0;32m      5\u001b[0m \u001b[38;5;124m        product_category_name, \u001b[39m\n\u001b[1;32m   (...)\u001b[0m\n\u001b[0;32m     11\u001b[0m \u001b[38;5;124m    ORDER BY total_revenue DESC;\u001b[39m\n\u001b[0;32m     12\u001b[0m \u001b[38;5;124m\"\"\"\u001b[39m\n\u001b[1;32m---> 14\u001b[0m \u001b[43mcursor\u001b[49m\u001b[38;5;241;43m.\u001b[39;49m\u001b[43mexecute\u001b[49m\u001b[43m(\u001b[49m\u001b[43mquery\u001b[49m\u001b[43m)\u001b[49m\n\u001b[0;32m     15\u001b[0m data \u001b[38;5;241m=\u001b[39m cursor\u001b[38;5;241m.\u001b[39mfetchall()\n\u001b[0;32m     17\u001b[0m \u001b[38;5;66;03m# Close the cursor and connection\u001b[39;00m\n",
      "File \u001b[1;32md:\\Data Analyst\\Projects\\Ecommerce\\.venv\\lib\\site-packages\\mysql\\connector\\cursor_cext.py:351\u001b[0m, in \u001b[0;36mCMySQLCursor.execute\u001b[1;34m(self, operation, params, map_results)\u001b[0m\n\u001b[0;32m    343\u001b[0m \u001b[38;5;28mself\u001b[39m\u001b[38;5;241m.\u001b[39m_executed \u001b[38;5;241m=\u001b[39m (\n\u001b[0;32m    344\u001b[0m     \u001b[38;5;28mself\u001b[39m\u001b[38;5;241m.\u001b[39m_stmt_partition[\u001b[38;5;124m\"\u001b[39m\u001b[38;5;124msingle_stmts\u001b[39m\u001b[38;5;124m\"\u001b[39m]\u001b[38;5;241m.\u001b[39mpopleft()\n\u001b[0;32m    345\u001b[0m     \u001b[38;5;28;01mif\u001b[39;00m map_results\n\u001b[0;32m    346\u001b[0m     \u001b[38;5;28;01melse\u001b[39;00m \u001b[38;5;28mself\u001b[39m\u001b[38;5;241m.\u001b[39m_stmt_partition[\u001b[38;5;124m\"\u001b[39m\u001b[38;5;124mmappable_stmt\u001b[39m\u001b[38;5;124m\"\u001b[39m]\n\u001b[0;32m    347\u001b[0m )\n\u001b[0;32m    349\u001b[0m \u001b[38;5;28;01mtry\u001b[39;00m:\n\u001b[0;32m    350\u001b[0m     \u001b[38;5;28mself\u001b[39m\u001b[38;5;241m.\u001b[39m_handle_result(\n\u001b[1;32m--> 351\u001b[0m         \u001b[38;5;28;43mself\u001b[39;49m\u001b[38;5;241;43m.\u001b[39;49m\u001b[43m_connection\u001b[49m\u001b[38;5;241;43m.\u001b[39;49m\u001b[43mcmd_query\u001b[49m\u001b[43m(\u001b[49m\n\u001b[0;32m    352\u001b[0m \u001b[43m            \u001b[49m\u001b[38;5;28;43mself\u001b[39;49m\u001b[38;5;241;43m.\u001b[39;49m\u001b[43m_stmt_partition\u001b[49m\u001b[43m[\u001b[49m\u001b[38;5;124;43m\"\u001b[39;49m\u001b[38;5;124;43mmappable_stmt\u001b[39;49m\u001b[38;5;124;43m\"\u001b[39;49m\u001b[43m]\u001b[49m\u001b[43m,\u001b[49m\n\u001b[0;32m    353\u001b[0m \u001b[43m            \u001b[49m\u001b[43mraw\u001b[49m\u001b[38;5;241;43m=\u001b[39;49m\u001b[38;5;28;43mself\u001b[39;49m\u001b[38;5;241;43m.\u001b[39;49m\u001b[43m_raw\u001b[49m\u001b[43m,\u001b[49m\n\u001b[0;32m    354\u001b[0m \u001b[43m            \u001b[49m\u001b[43mbuffered\u001b[49m\u001b[38;5;241;43m=\u001b[39;49m\u001b[38;5;28;43mself\u001b[39;49m\u001b[38;5;241;43m.\u001b[39;49m\u001b[43m_buffered\u001b[49m\u001b[43m,\u001b[49m\n\u001b[0;32m    355\u001b[0m \u001b[43m            \u001b[49m\u001b[43mraw_as_string\u001b[49m\u001b[38;5;241;43m=\u001b[39;49m\u001b[38;5;28;43mself\u001b[39;49m\u001b[38;5;241;43m.\u001b[39;49m\u001b[43m_raw_as_string\u001b[49m\u001b[43m,\u001b[49m\n\u001b[0;32m    356\u001b[0m \u001b[43m        \u001b[49m\u001b[43m)\u001b[49m\n\u001b[0;32m    357\u001b[0m     )\n\u001b[0;32m    358\u001b[0m \u001b[38;5;28;01mexcept\u001b[39;00m MySQLInterfaceError \u001b[38;5;28;01mas\u001b[39;00m err:\n\u001b[0;32m    359\u001b[0m     \u001b[38;5;28;01mraise\u001b[39;00m get_mysql_exception(\n\u001b[0;32m    360\u001b[0m         msg\u001b[38;5;241m=\u001b[39merr\u001b[38;5;241m.\u001b[39mmsg, errno\u001b[38;5;241m=\u001b[39merr\u001b[38;5;241m.\u001b[39merrno, sqlstate\u001b[38;5;241m=\u001b[39merr\u001b[38;5;241m.\u001b[39msqlstate\n\u001b[0;32m    361\u001b[0m     ) \u001b[38;5;28;01mfrom\u001b[39;00m\u001b[38;5;250m \u001b[39m\u001b[38;5;21;01merr\u001b[39;00m\n",
      "File \u001b[1;32md:\\Data Analyst\\Projects\\Ecommerce\\.venv\\lib\\site-packages\\mysql\\connector\\opentelemetry\\context_propagation.py:97\u001b[0m, in \u001b[0;36mwith_context_propagation.<locals>.wrapper\u001b[1;34m(cnx, *args, **kwargs)\u001b[0m\n\u001b[0;32m     95\u001b[0m \u001b[38;5;66;03m# pylint: disable=possibly-used-before-assignment\u001b[39;00m\n\u001b[0;32m     96\u001b[0m \u001b[38;5;28;01mif\u001b[39;00m \u001b[38;5;129;01mnot\u001b[39;00m OTEL_ENABLED \u001b[38;5;129;01mor\u001b[39;00m \u001b[38;5;129;01mnot\u001b[39;00m cnx\u001b[38;5;241m.\u001b[39motel_context_propagation:\n\u001b[1;32m---> 97\u001b[0m     \u001b[38;5;28;01mreturn\u001b[39;00m method(cnx, \u001b[38;5;241m*\u001b[39margs, \u001b[38;5;241m*\u001b[39m\u001b[38;5;241m*\u001b[39mkwargs)\n\u001b[0;32m     99\u001b[0m current_span \u001b[38;5;241m=\u001b[39m trace\u001b[38;5;241m.\u001b[39mget_current_span()\n\u001b[0;32m    100\u001b[0m tp_header \u001b[38;5;241m=\u001b[39m \u001b[38;5;28;01mNone\u001b[39;00m\n",
      "File \u001b[1;32md:\\Data Analyst\\Projects\\Ecommerce\\.venv\\lib\\site-packages\\mysql\\connector\\connection_cext.py:763\u001b[0m, in \u001b[0;36mCMySQLConnection.cmd_query\u001b[1;34m(self, query, raw, buffered, raw_as_string, **kwargs)\u001b[0m\n\u001b[0;32m    755\u001b[0m     \u001b[38;5;28mself\u001b[39m\u001b[38;5;241m.\u001b[39m_cmysql\u001b[38;5;241m.\u001b[39mquery(\n\u001b[0;32m    756\u001b[0m         query,\n\u001b[0;32m    757\u001b[0m         raw\u001b[38;5;241m=\u001b[39mraw,\n\u001b[1;32m   (...)\u001b[0m\n\u001b[0;32m    760\u001b[0m         query_attrs\u001b[38;5;241m=\u001b[39m\u001b[38;5;28mself\u001b[39m\u001b[38;5;241m.\u001b[39mquery_attrs,\n\u001b[0;32m    761\u001b[0m     )\n\u001b[0;32m    762\u001b[0m \u001b[38;5;28;01mexcept\u001b[39;00m MySQLInterfaceError \u001b[38;5;28;01mas\u001b[39;00m err:\n\u001b[1;32m--> 763\u001b[0m     \u001b[38;5;28;01mraise\u001b[39;00m get_mysql_exception(\n\u001b[0;32m    764\u001b[0m         err\u001b[38;5;241m.\u001b[39merrno, msg\u001b[38;5;241m=\u001b[39merr\u001b[38;5;241m.\u001b[39mmsg, sqlstate\u001b[38;5;241m=\u001b[39merr\u001b[38;5;241m.\u001b[39msqlstate\n\u001b[0;32m    765\u001b[0m     ) \u001b[38;5;28;01mfrom\u001b[39;00m\u001b[38;5;250m \u001b[39m\u001b[38;5;21;01merr\u001b[39;00m\n\u001b[0;32m    766\u001b[0m \u001b[38;5;28;01mexcept\u001b[39;00m \u001b[38;5;167;01mAttributeError\u001b[39;00m \u001b[38;5;28;01mas\u001b[39;00m err:\n\u001b[0;32m    767\u001b[0m     addr \u001b[38;5;241m=\u001b[39m (\n\u001b[0;32m    768\u001b[0m         \u001b[38;5;28mself\u001b[39m\u001b[38;5;241m.\u001b[39m_unix_socket \u001b[38;5;28;01mif\u001b[39;00m \u001b[38;5;28mself\u001b[39m\u001b[38;5;241m.\u001b[39m_unix_socket \u001b[38;5;28;01melse\u001b[39;00m \u001b[38;5;124mf\u001b[39m\u001b[38;5;124m\"\u001b[39m\u001b[38;5;132;01m{\u001b[39;00m\u001b[38;5;28mself\u001b[39m\u001b[38;5;241m.\u001b[39m_host\u001b[38;5;132;01m}\u001b[39;00m\u001b[38;5;124m:\u001b[39m\u001b[38;5;132;01m{\u001b[39;00m\u001b[38;5;28mself\u001b[39m\u001b[38;5;241m.\u001b[39m_port\u001b[38;5;132;01m}\u001b[39;00m\u001b[38;5;124m\"\u001b[39m\n\u001b[0;32m    769\u001b[0m     )\n",
      "\u001b[1;31mProgrammingError\u001b[0m: 1054 (42S22): Unknown column 'product_category_name' in 'field list'"
     ]
    }
   ],
   "source": [
    "# Calculate the percentage of total revenue contributed by each product category.\n",
    "# SQL query to get revenue percentage per product category\n",
    "query = \"\"\"\n",
    "    SELECT \n",
    "        product_category_name, \n",
    "        SUM(price) AS total_revenue, \n",
    "        (SUM(price) / (SELECT SUM(price) FROM orders)) * 100 AS revenue_percentage\n",
    "    FROM orders\n",
    "    JOIN products ON orders.product_id = products.product_id\n",
    "    GROUP BY product_category_name\n",
    "    ORDER BY total_revenue DESC;\n",
    "\"\"\"\n",
    "\n",
    "cursor.execute(query)\n",
    "data = cursor.fetchall()\n",
    "\n",
    "# Close the cursor and connection\n",
    "cursor.close()\n",
    "conn.close()\n",
    "\n",
    "# Convert data to a Pandas DataFrame\n",
    "df = pd.DataFrame(data, columns=[\"Product Category\", \"Total Revenue\", \"Revenue Percentage\"])\n",
    "df[\"Revenue Percentage\"] = df[\"Revenue Percentage\"].round(2)  # Round for better readability\n",
    "\n",
    "# Display the result\n",
    "print(df)\n",
    "\n",
    "\n"
   ]
  }
 ],
 "metadata": {
  "kernelspec": {
   "display_name": ".venv",
   "language": "python",
   "name": "python3"
  },
  "language_info": {
   "codemirror_mode": {
    "name": "ipython",
    "version": 3
   },
   "file_extension": ".py",
   "mimetype": "text/x-python",
   "name": "python",
   "nbconvert_exporter": "python",
   "pygments_lexer": "ipython3",
   "version": "3.10.11"
  }
 },
 "nbformat": 4,
 "nbformat_minor": 2
}
