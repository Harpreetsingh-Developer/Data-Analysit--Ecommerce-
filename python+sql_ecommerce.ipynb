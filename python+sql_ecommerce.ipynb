{
 "cells": [
  {
   "cell_type": "code",
   "execution_count": null,
   "metadata": {},
   "outputs": [],
   "source": [
    "import pandas as pd\n",
    "import matplotlib.pyplot as plt\n",
    "import seaborn as sns\n",
    "import mysql.connector\n",
    "\n",
    "db = mysql.connector.connect(\n",
    "    host = 'localhost',\n",
    "    user ='root',\n",
    "    password = 'anmol2004',\n",
    "    database = 'ecommerce'\n",
    ")\n",
    "cursor = db.cursor(buffered=True)"
   ]
  },
  {
   "cell_type": "code",
   "execution_count": null,
   "metadata": {},
   "outputs": [
    {
     "name": "stdout",
     "output_type": "stream",
     "text": [
      "              Customer City\n",
      "0                    franca\n",
      "1     sao bernardo do campo\n",
      "2                 sao paulo\n",
      "3           mogi das cruzes\n",
      "4                  campinas\n",
      "...                     ...\n",
      "4114                 siriji\n",
      "4115    natividade da serra\n",
      "4116           monte bonito\n",
      "4117             sao rafael\n",
      "4118      eugenio de castro\n",
      "\n",
      "[4119 rows x 1 columns]\n"
     ]
    }
   ],
   "source": [
    "# List all unique cities where customers are located.\n",
    "\n",
    "# Execute query\n",
    "query = \"\"\"SELECT DISTINCT customer_city FROM customers\"\"\"\n",
    "cursor.execute(query)\n",
    "\n",
    "# Fetch all results\n",
    "data = cursor.fetchall()\n",
    "\n",
    "# Convert to DataFrame\n",
    "df = pd.DataFrame(data, columns=[\"Customer City\"])\n",
    "\n",
    "# Print as a table\n",
    "print(df)\n",
    "\n",
    "\n",
    "\n"
   ]
  },
  {
   "cell_type": "code",
   "execution_count": null,
   "metadata": {},
   "outputs": [
    {
     "name": "stdout",
     "output_type": "stream",
     "text": [
      "Total Orders in 2017: 45101\n"
     ]
    }
   ],
   "source": [
    "# Count the number of orders placed in 2017.\n",
    "\n",
    "query = \"\"\"SELECT COUNT(order_id) FROM orders WHERE YEAR(order_purchase_timestamp) = 2017\"\"\"\n",
    "cursor.execute(query)\n",
    "\n",
    "# Fetch the result\n",
    "data = cursor.fetchone()  # COUNT returns a single value\n",
    "\n",
    "# Print the count\n",
    "print(\"Total Orders in 2017:\", data[0])\n"
   ]
  },
  {
   "cell_type": "code",
   "execution_count": null,
   "metadata": {},
   "outputs": [
    {
     "name": "stdout",
     "output_type": "stream",
     "text": [
      "                       Category   Total Sales\n",
      "0                     perfumery  5.067387e+05\n",
      "1          Furniture Decoration  1.430176e+06\n",
      "2                     telephony  4.868821e+05\n",
      "3                bed table bath  1.712554e+06\n",
      "4                    automotive  8.522943e+05\n",
      "..                          ...           ...\n",
      "69               cds music dvds  1.199430e+03\n",
      "70                   La Cuisine  2.913530e+03\n",
      "71  Fashion Children's Clothing  7.856700e+02\n",
      "72                     PC Gamer  2.174430e+03\n",
      "73       insurance and services  3.245100e+02\n",
      "\n",
      "[74 rows x 2 columns]\n"
     ]
    }
   ],
   "source": [
    "# Find the total sales per category.\n",
    "\n",
    "query = \"\"\"\n",
    "    SELECT \n",
    "        products.product_category AS category, \n",
    "        SUM(payments.payment_value) AS sales\n",
    "    FROM products \n",
    "    JOIN order_items ON products.product_id = order_items.product_id\n",
    "    JOIN payments ON order_items.order_id = payments.order_id  -- Fix table name\n",
    "    GROUP BY category\n",
    "\"\"\"\n",
    "cursor.execute(query)\n",
    "data = cursor.fetchall()\n",
    "\n",
    "# Print results in a readable format\n",
    "df = pd.DataFrame(data, columns=[\"Category\", \"Total Sales\"])\n",
    "print(df)\n"
   ]
  },
  {
   "cell_type": "code",
   "execution_count": null,
   "metadata": {},
   "outputs": [
    {
     "ename": "NameError",
     "evalue": "name 'cursor' is not defined",
     "output_type": "error",
     "traceback": [
      "\u001b[1;31m---------------------------------------------------------------------------\u001b[0m",
      "\u001b[1;31mNameError\u001b[0m                                 Traceback (most recent call last)",
      "Cell \u001b[1;32mIn[2], line 13\u001b[0m\n\u001b[0;32m      1\u001b[0m \u001b[38;5;66;03m# Calculate the percentage of orders that were paid in installments.\u001b[39;00m\n\u001b[0;32m      4\u001b[0m query \u001b[38;5;241m=\u001b[39m \u001b[38;5;124m\"\"\"\u001b[39m\n\u001b[0;32m      5\u001b[0m \u001b[38;5;124m    SELECT \u001b[39m\n\u001b[0;32m      6\u001b[0m \u001b[38;5;124m        products.product_category AS category, \u001b[39m\n\u001b[1;32m   (...)\u001b[0m\n\u001b[0;32m     11\u001b[0m \u001b[38;5;124m    GROUP BY category\u001b[39m\n\u001b[0;32m     12\u001b[0m \u001b[38;5;124m\"\"\"\u001b[39m\n\u001b[1;32m---> 13\u001b[0m \u001b[43mcursor\u001b[49m\u001b[38;5;241m.\u001b[39mexecute(query)\n\u001b[0;32m     14\u001b[0m data \u001b[38;5;241m=\u001b[39m cursor\u001b[38;5;241m.\u001b[39mfetchall()\n\u001b[0;32m     16\u001b[0m \u001b[38;5;66;03m# Print results in a readable format\u001b[39;00m\n",
      "\u001b[1;31mNameError\u001b[0m: name 'cursor' is not defined"
     ]
    }
   ],
   "source": [
    "# Calculate the percentage of orders that were paid in installments.\n",
    "\n",
    "\n",
    "query = \"\"\"\n",
    "    SELECT \n",
    "        products.product_category AS category, \n",
    "        SUM(payments.payment_value) AS sales\n",
    "    FROM products \n",
    "    JOIN order_items ON products.product_id = order_items.product_id\n",
    "    JOIN payments ON order_items.order_id = payments.order_id  -- Fix table name\n",
    "    GROUP BY category\n",
    "\"\"\"\n",
    "cursor.execute(query)\n",
    "data = cursor.fetchall()\n",
    "\n",
    "# Print results in a readable format\n",
    "df = pd.DataFrame(data, columns=[\"Category\", \"Total Sales\"])\n",
    "print(df)\n"
   ]
  },
  {
   "cell_type": "code",
   "execution_count": null,
   "metadata": {},
   "outputs": [],
   "source": [
    "# Count the number of customers from each state. "
   ]
  }
 ],
 "metadata": {
  "kernelspec": {
   "display_name": ".venv",
   "language": "python",
   "name": "python3"
  },
  "language_info": {
   "codemirror_mode": {
    "name": "ipython",
    "version": 3
   },
   "file_extension": ".py",
   "mimetype": "text/x-python",
   "name": "python",
   "nbconvert_exporter": "python",
   "pygments_lexer": "ipython3",
   "version": "3.10.11"
  }
 },
 "nbformat": 4,
 "nbformat_minor": 2
}
